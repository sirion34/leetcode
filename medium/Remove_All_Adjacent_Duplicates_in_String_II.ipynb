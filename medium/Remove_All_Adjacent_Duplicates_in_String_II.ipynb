{
  "nbformat": 4,
  "nbformat_minor": 0,
  "metadata": {
    "colab": {
      "name": "Remove All Adjacent Duplicates in String II.ipynb",
      "provenance": [],
      "collapsed_sections": []
    },
    "kernelspec": {
      "name": "python3",
      "display_name": "Python 3"
    },
    "language_info": {
      "name": "python"
    }
  },
  "cells": [
    {
      "cell_type": "markdown",
      "source": [
        "Remove All Adjacent Duplicates in String II\n",
        "\n",
        "**Medium**\n",
        "\n",
        "https://leetcode.com/problems/remove-all-adjacent-duplicates-in-string-ii/"
      ],
      "metadata": {
        "id": "Z18h1mjarocY"
      }
    },
    {
      "cell_type": "code",
      "source": [
        "class Solution:\n",
        "    def removeDuplicates(self, s: str, k: int) -> str:\n",
        "        sta = []\n",
        "        for i in range(len(s)):\n",
        "            if not sta:\n",
        "                sta.append([s[i], 1])\n",
        "                continue\n",
        "            if s[i] == sta[-1][0]:\n",
        "                sta[-1][1] += 1\n",
        "                if sta[-1][1] == k:\n",
        "                    sta.pop(-1)\n",
        "            else:\n",
        "                sta.append([s[i], 1])\n",
        "        answ = ''\n",
        "        for i in range(len(sta)):\n",
        "            answ += sta[i][0]*sta[i][1]\n",
        "        return answ"
      ],
      "metadata": {
        "id": "TI0zBP3vyiTp"
      },
      "execution_count": null,
      "outputs": []
    }
  ]
}
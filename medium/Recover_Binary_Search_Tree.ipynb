{
  "nbformat": 4,
  "nbformat_minor": 0,
  "metadata": {
    "colab": {
      "name": "Recover Binary Search Tree.ipynb",
      "provenance": [],
      "collapsed_sections": []
    },
    "kernelspec": {
      "name": "python3",
      "display_name": "Python 3"
    },
    "language_info": {
      "name": "python"
    }
  },
  "cells": [
    {
      "cell_type": "markdown",
      "source": [
        "Recover Binary Search Tree\n",
        "\n",
        "**Medium**\n",
        "\n",
        "https://leetcode.com/problems/recover-binary-search-tree"
      ],
      "metadata": {
        "id": "Z18h1mjarocY"
      }
    },
    {
      "cell_type": "code",
      "source": [
        "# Definition for a binary tree node.\n",
        "# class TreeNode:\n",
        "#     def __init__(self, val=0, left=None, right=None):\n",
        "#         self.val = val\n",
        "#         self.left = left\n",
        "#         self.right = right\n",
        "class Solution:\n",
        "    def recoverTree(self, root: Optional[TreeNode]) -> None:\n",
        "        done = True\n",
        "        def recur(node, not_less_than, not_greater_than):\n",
        "            nonlocal done\n",
        "            if not_less_than and node.val < not_less_than.val:\n",
        "                node.val, not_less_than.val = not_less_than.val, node.val\n",
        "                done = True                \n",
        "            if not_greater_than and node.val > not_greater_than.val:\n",
        "                node.val, not_greater_than.val = not_greater_than.val, node.val\n",
        "                done = True                \n",
        "            if not done and node.left: recur(node.left, not_less_than, node)\n",
        "            if not done and node.right: recur(node.right, node, not_greater_than)\n",
        "        while done:                \n",
        "            done = False\n",
        "            recur(root, None, None)\n",
        "        return 0\n",
        "        "
      ],
      "metadata": {
        "id": "TI0zBP3vyiTp"
      },
      "execution_count": null,
      "outputs": []
    }
  ]
}
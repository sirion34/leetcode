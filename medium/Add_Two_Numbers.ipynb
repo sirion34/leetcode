{
  "nbformat": 4,
  "nbformat_minor": 0,
  "metadata": {
    "colab": {
      "name": "Add Two Numbers.ipynb",
      "provenance": [],
      "collapsed_sections": []
    },
    "kernelspec": {
      "name": "python3",
      "display_name": "Python 3"
    },
    "language_info": {
      "name": "python"
    }
  },
  "cells": [
    {
      "cell_type": "markdown",
      "source": [
        "Add Two Numbers\n",
        "\n",
        "**Medium**\n",
        "\n",
        "https://leetcode.com/problems/add-two-numbers/"
      ],
      "metadata": {
        "id": "Z18h1mjarocY"
      }
    },
    {
      "cell_type": "code",
      "source": [
        "# Definition for singly-linked list.\n",
        "# class ListNode:\n",
        "#     def __init__(self, val=0, next=None):\n",
        "#         self.val = val\n",
        "#         self.next = next\n",
        "class Solution:\n",
        "\n",
        "        \n",
        "    def addTwoNumbers(self, l1: Optional[ListNode], l2: Optional[ListNode], c = 0) -> Optional[ListNode]:\n",
        "        \n",
        "        val = l1.val + l2.val + c\n",
        "        c = val // 10\n",
        "        ret = ListNode(val % 10 ) \n",
        "        \n",
        "        if (l1.next != None or l2.next != None or c != 0):\n",
        "            if l1.next == None:\n",
        "                l1.next = ListNode(0)\n",
        "            if l2.next == None:\n",
        "                l2.next = ListNode(0)\n",
        "            ret.next = self.addTwoNumbers(l1.next,l2.next,c)\n",
        "        return ret"
      ],
      "metadata": {
        "id": "TI0zBP3vyiTp"
      },
      "execution_count": null,
      "outputs": []
    }
  ]
}
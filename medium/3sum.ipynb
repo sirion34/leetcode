{
  "nbformat": 4,
  "nbformat_minor": 0,
  "metadata": {
    "colab": {
      "name": "3sum.ipynb",
      "provenance": [],
      "collapsed_sections": []
    },
    "kernelspec": {
      "name": "python3",
      "display_name": "Python 3"
    },
    "language_info": {
      "name": "python"
    }
  },
  "cells": [
    {
      "cell_type": "markdown",
      "source": [
        "3sum\n",
        "\n",
        "**Medium**\n",
        "\n",
        "https://leetcode.com/problems/3sum/"
      ],
      "metadata": {
        "id": "Z18h1mjarocY"
      }
    },
    {
      "cell_type": "markdown",
      "source": [
        "##ИДЕЯ:\n",
        "\n",
        "Мы можем не складывать 3 положительных или 3 отрицательных числа, поэтому одно из чисел будет идти с конца, а другое с начала. При этом, если сумма будет больше нуля, то мы будем уменьшать положительное число, а если меньше нуля, то будем уменьшать отрицательное. "
      ],
      "metadata": {
        "id": "Shmx13yTCMDX"
      }
    },
    {
      "cell_type": "code",
      "source": [
        "class Solution:\n",
        "    def threeSum(self, nums: List[int]) -> List[List[int]]:\n",
        "    \n",
        "        arr_answ = set([])\n",
        "        \n",
        "        nums.sort()\n",
        "        \n",
        "        \n",
        "        for i in range(len(nums)):\n",
        "            j, k = (i+1, len(nums)-1)\n",
        "            while j < k:\n",
        "                if (nums[i] + nums[j] + nums[k] == 0):\n",
        "                    ar = [nums[i], nums[j], nums[k]]\n",
        "                    ar.sort()\n",
        "                    ar = tuple(ar)\n",
        "                    arr_answ.add(ar)\n",
        "                    k -= 1\n",
        "                    \n",
        "                if (nums[i] + nums[j] + nums[k] > 0):\n",
        "                    k -= 1\n",
        "                if (nums[i] + nums[j] + nums[k] < 0):\n",
        "                    j += 1\n",
        "                        \n",
        "        return arr_answ"
      ],
      "metadata": {
        "id": "TI0zBP3vyiTp"
      },
      "execution_count": null,
      "outputs": []
    }
  ]
}
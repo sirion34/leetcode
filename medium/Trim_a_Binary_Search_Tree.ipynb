{
  "nbformat": 4,
  "nbformat_minor": 0,
  "metadata": {
    "colab": {
      "name": "Trim a Binary Search Tree.ipynb",
      "provenance": [],
      "collapsed_sections": []
    },
    "kernelspec": {
      "name": "python3",
      "display_name": "Python 3"
    },
    "language_info": {
      "name": "python"
    }
  },
  "cells": [
    {
      "cell_type": "markdown",
      "source": [
        "Trim a Binary Search Tree\n",
        "\n",
        "**Medium**\n",
        "\n",
        "https://leetcode.com/problems/trim-a-binary-search-tree/"
      ],
      "metadata": {
        "id": "Z18h1mjarocY"
      }
    },
    {
      "cell_type": "code",
      "source": [
        "# Definition for a binary tree node.\n",
        "# class TreeNode:\n",
        "#     def __init__(self, val=0, left=None, right=None):\n",
        "#         self.val = val\n",
        "#         self.left = left\n",
        "#         self.right = right\n",
        "class Solution:\n",
        "    def trimBST(self, root: Optional[TreeNode], low: int, high: int) -> Optional[TreeNode]:\n",
        "        \n",
        "        \n",
        "        def trim(node):\n",
        "            \n",
        "            if not node:\n",
        "                return  None\n",
        "            \n",
        "            elif (node.val > high):\n",
        "                return trim(node.left)\n",
        "            elif (node.val < low):\n",
        "                return trim(node.right)\n",
        "            else:\n",
        "                node.left = trim(node.left)\n",
        "                node.right = trim(node.right)\n",
        "                return node\n",
        "            \n",
        "        return (trim(root))"
      ],
      "metadata": {
        "id": "TI0zBP3vyiTp"
      },
      "execution_count": null,
      "outputs": []
    }
  ]
}
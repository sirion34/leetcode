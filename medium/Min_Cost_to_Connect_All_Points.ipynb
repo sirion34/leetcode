{
  "nbformat": 4,
  "nbformat_minor": 0,
  "metadata": {
    "colab": {
      "name": "Min Cost to Connect All Points.ipynb",
      "provenance": [],
      "collapsed_sections": []
    },
    "kernelspec": {
      "name": "python3",
      "display_name": "Python 3"
    },
    "language_info": {
      "name": "python"
    }
  },
  "cells": [
    {
      "cell_type": "markdown",
      "source": [
        "Min Cost to Connect All Points\n",
        "\n",
        "**Medium**\n",
        "\n",
        "https://leetcode.com/problems/min-cost-to-connect-all-points"
      ],
      "metadata": {
        "id": "Z18h1mjarocY"
      }
    },
    {
      "cell_type": "code",
      "source": [
        "class Solution:\n",
        "    def minCostConnectPoints(self, points: List[List[int]]) -> int:\n",
        "        \n",
        "        \n",
        "        alldist, res = {(x, y): float('inf') if i else 0 for i, (x, y) in enumerate(points)}, 0\n",
        "        while alldist:\n",
        "            x, y = min(alldist, key=alldist.get)  # obtain the current minimum edge\n",
        "            res += alldist.pop((x, y))      # and remove the corresponding point\n",
        "            for x1, y1 in alldist:          # for the rest of the points, update the minimum manhattan distance\n",
        "                alldist[(x1, y1)] = min(alldist[(x1, y1)], abs(x-x1)+abs(y-y1))\n",
        "        return res"
      ],
      "metadata": {
        "id": "TI0zBP3vyiTp"
      },
      "execution_count": null,
      "outputs": []
    }
  ]
}
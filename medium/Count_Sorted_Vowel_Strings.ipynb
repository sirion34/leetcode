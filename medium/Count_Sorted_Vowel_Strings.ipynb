{
  "nbformat": 4,
  "nbformat_minor": 0,
  "metadata": {
    "colab": {
      "name": "Count Sorted Vowel Strings.ipynb",
      "provenance": [],
      "collapsed_sections": []
    },
    "kernelspec": {
      "name": "python3",
      "display_name": "Python 3"
    },
    "language_info": {
      "name": "python"
    }
  },
  "cells": [
    {
      "cell_type": "markdown",
      "source": [
        "Count Sorted Vowel Strings\n",
        "\n",
        "**Medium**\n",
        "\n",
        "https://leetcode.com/problems/count-sorted-vowel-strings/"
      ],
      "metadata": {
        "id": "Z18h1mjarocY"
      }
    },
    {
      "cell_type": "code",
      "source": [
        "class Solution:\n",
        "    def countVowelStrings(self, n: int) -> int:\n",
        "        return (n + 4)*(n + 3)*(n + 2)*(n + 1)//24"
      ],
      "metadata": {
        "id": "TI0zBP3vyiTp"
      },
      "execution_count": null,
      "outputs": []
    }
  ]
}
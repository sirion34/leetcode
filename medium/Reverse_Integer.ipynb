{
  "nbformat": 4,
  "nbformat_minor": 0,
  "metadata": {
    "colab": {
      "name": "Reverse Integer.ipynb",
      "provenance": [],
      "collapsed_sections": []
    },
    "kernelspec": {
      "name": "python3",
      "display_name": "Python 3"
    },
    "language_info": {
      "name": "python"
    }
  },
  "cells": [
    {
      "cell_type": "markdown",
      "source": [
        "Reverse Integer\n",
        "\n",
        "**Medium**\n",
        "\n",
        "https://leetcode.com/problems/reverse-integer"
      ],
      "metadata": {
        "id": "Z18h1mjarocY"
      }
    },
    {
      "cell_type": "code",
      "source": [
        "class Solution:\n",
        "    def reverse(self, x: int) -> int:\n",
        "        k = 1\n",
        "        \n",
        "        if (x < 0):\n",
        "            x = -x\n",
        "            k = -k\n",
        "        arrnum = []\n",
        "        es = 1\n",
        "        while x > 0:\n",
        "            arrnum.append(x%10)\n",
        "            es = es*10\n",
        "            x = x//10\n",
        "        for i in range(len(arrnum)):\n",
        "            es = es//10\n",
        "            x += arrnum[i]*es\n",
        "            \n",
        "        if (x > 2**31):\n",
        "            return 0 \n",
        "        \n",
        "        return k*x"
      ],
      "metadata": {
        "id": "TI0zBP3vyiTp"
      },
      "execution_count": null,
      "outputs": []
    }
  ]
}
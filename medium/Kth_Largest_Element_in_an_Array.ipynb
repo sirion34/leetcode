{
  "nbformat": 4,
  "nbformat_minor": 0,
  "metadata": {
    "colab": {
      "name": "Kth Largest Element in an Array.ipynb",
      "provenance": [],
      "collapsed_sections": []
    },
    "kernelspec": {
      "name": "python3",
      "display_name": "Python 3"
    },
    "language_info": {
      "name": "python"
    }
  },
  "cells": [
    {
      "cell_type": "markdown",
      "source": [
        "Kth Largest Element in an Array\n",
        "\n",
        "**Medium**\n",
        "\n",
        "https://leetcode.com/problems/kth-largest-element-in-an-array/"
      ],
      "metadata": {
        "id": "Z18h1mjarocY"
      }
    },
    {
      "cell_type": "code",
      "source": [
        "class Solution:\n",
        "    def findKthLargest(self, nums: List[int], k: int) -> int:\n",
        "        N = len(nums)\n",
        " \n",
        "        def partition(l, r, pivot):           \n",
        "            \n",
        "            pivot_elem=nums[pivot]\n",
        "            nums[r],nums[pivot]=nums[pivot],nums[r]\n",
        "            index=l\n",
        "            \n",
        "            for i in range(l, r):\n",
        "                if nums[i]<pivot_elem:\n",
        "                    nums[i],nums[index]=nums[index],nums[i]\n",
        "                    index+=1\n",
        "            \n",
        "            nums[index],nums[r]=nums[r],nums[index]        \n",
        "            return index\n",
        "        \n",
        "        def quick_select(l,r,kth_index):\n",
        "            if l == r:\n",
        "                return nums[l]\n",
        "            \n",
        "            pivot_index=partition(l,r,l)\n",
        "            \n",
        "            if pivot_index == kth_index:\n",
        "                return nums[pivot_index]\n",
        "            \n",
        "            if kth_index>pivot_index:\n",
        "                return quick_select(pivot_index+1, r, kth_index)\n",
        "            else:\n",
        "                return quick_select(l,pivot_index-1, kth_index)\n",
        "            \n",
        "        return quick_select(0, N - 1, N - k)\n",
        "\n",
        "    \n",
        "        # return sorted(nums)[-k]\n",
        "        "
      ],
      "metadata": {
        "id": "TI0zBP3vyiTp"
      },
      "execution_count": null,
      "outputs": []
    }
  ]
}
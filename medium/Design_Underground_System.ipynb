{
  "nbformat": 4,
  "nbformat_minor": 0,
  "metadata": {
    "colab": {
      "name": "Design Underground System.ipynb",
      "provenance": [],
      "collapsed_sections": []
    },
    "kernelspec": {
      "name": "python3",
      "display_name": "Python 3"
    },
    "language_info": {
      "name": "python"
    }
  },
  "cells": [
    {
      "cell_type": "markdown",
      "source": [
        "Design Underground System\n",
        "\n",
        "**Medium**\n",
        "\n",
        "https://leetcode.com/problems/design-underground-system/"
      ],
      "metadata": {
        "id": "Z18h1mjarocY"
      }
    },
    {
      "cell_type": "code",
      "source": [
        "class UndergroundSystem:\n",
        "\n",
        "    def __init__(self):\n",
        "        self.allPeople = []\n",
        "        \n",
        "        \n",
        "        \n",
        "    def checkIn(self, id: int, stationName: str, t: int) -> None:\n",
        "        arrWhichGo = [id, stationName, t]\n",
        "        self.allPeople.append(arrWhichGo)\n",
        "        return 0\n",
        "    \n",
        "    def checkOut(self, id: int, stationName: str, t: int) -> None:\n",
        "        for i in range(len(self.allPeople)):\n",
        "            if self.allPeople[i][0] == id and len(self.allPeople[i]) == 3:\n",
        "                self.allPeople[i].append(stationName)\n",
        "                self.allPeople[i].append(t)\n",
        "                return 0\n",
        "        return 0\n",
        "\n",
        "    def getAverageTime(self, startStation: str, endStation: str) -> float:\n",
        "        sumTime = 0 \n",
        "        n = 0\n",
        "        # print(self.allPeople)\n",
        "        for i in range(len(self.allPeople)):\n",
        "            # print(i, self.allPeople[i])\n",
        "            if len(self.allPeople[i]) == 5:\n",
        "                if self.allPeople[i][1] == startStation and self.allPeople[i][3] == endStation:\n",
        "                    sumTime += self.allPeople[i][4] - self.allPeople[i][2]\n",
        "                    n += 1\n",
        "        return  sumTime/n\n",
        "\n",
        "\n",
        "# Your UndergroundSystem object will be instantiated and called as such:\n",
        "# obj = UndergroundSystem()\n",
        "# obj.checkIn(id,stationName,t)\n",
        "# obj.checkOut(id,stationName,t)\n",
        "# param_3 = obj.getAverageTime(startStation,endStation)"
      ],
      "metadata": {
        "id": "TI0zBP3vyiTp"
      },
      "execution_count": null,
      "outputs": []
    }
  ]
}
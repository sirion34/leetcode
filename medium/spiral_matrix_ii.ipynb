{
  "nbformat": 4,
  "nbformat_minor": 0,
  "metadata": {
    "colab": {
      "name": "spiral-matrix-ii.ipynb",
      "provenance": [],
      "collapsed_sections": []
    },
    "kernelspec": {
      "name": "python3",
      "display_name": "Python 3"
    },
    "language_info": {
      "name": "python"
    }
  },
  "cells": [
    {
      "cell_type": "markdown",
      "source": [
        "spiral-matrix-ii\n",
        "\n",
        "**Medium**\n",
        "\n",
        "https://leetcode.com/problems/spiral-matrix-ii"
      ],
      "metadata": {
        "id": "Z18h1mjarocY"
      }
    },
    {
      "cell_type": "markdown",
      "source": [
        "## Идея\n",
        "\n",
        "Создаем массив из нулей, окруженных единицами, пока справа нули идем вправо, если упираемся в число, то идем вниз, аналогично влево, аналогично вверх и по новой. "
      ],
      "metadata": {
        "id": "Eg8oCpQ0j7Sk"
      }
    },
    {
      "cell_type": "code",
      "source": [
        "class Solution:\n",
        "    def generateMatrix(self, n: int) -> List[List[int]]:\n",
        "\n",
        "        k = 1\n",
        "        \n",
        "        Glist = [[0] * (n+2) for i in range(n+2)]\n",
        "        for i in range(n+2):\n",
        "            for j in range(n+2):\n",
        "                if (i == 0 or j == 0 or i == n+1 or j == n+1):\n",
        "                    Glist[i][j] = 1\n",
        "        \n",
        "        i = 1\n",
        "        j = 1\n",
        "        R = 0\n",
        "        \n",
        "        for k in range(n*n+1):\n",
        "                \n",
        "            if (Glist[i][j+1] == 0 and R == 0):\n",
        "                Glist[i][j] = k + 1\n",
        "                j += 1\n",
        "                continue\n",
        "            \n",
        "            if (Glist[i+1][j] == 0):\n",
        "                Glist[i][j] = k + 1\n",
        "                i += 1\n",
        "                continue\n",
        "                \n",
        "            if (Glist[i][j-1] == 0):\n",
        "                Glist[i][j] = k + 1\n",
        "                j -= 1\n",
        "                R += 1\n",
        "                continue\n",
        "                \n",
        "            if (Glist[i-1][j] == 0):\n",
        "                Glist[i][j] = k + 1\n",
        "                R -= 1\n",
        "                i -= 1\n",
        "                if (Glist[i-1][j] != 0):\n",
        "                    R -= 1\n",
        "                continue\n",
        "                \n",
        "            if (k == n*n):\n",
        "                Glist[i][j] = n*n\n",
        "        \n",
        "        \n",
        "        answer = [[0] * (n) for i in range(n)]\n",
        "        \n",
        "        for i in range(1, n+1):\n",
        "            for j in range(1, n+1):\n",
        "                answer[i-1][j-1] = Glist[i][j]\n",
        "        \n",
        "        \n",
        "        return answer"
      ],
      "metadata": {
        "id": "TI0zBP3vyiTp"
      },
      "execution_count": null,
      "outputs": []
    }
  ]
}
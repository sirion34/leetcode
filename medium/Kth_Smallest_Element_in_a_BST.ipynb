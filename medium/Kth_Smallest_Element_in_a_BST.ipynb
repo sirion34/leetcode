{
  "nbformat": 4,
  "nbformat_minor": 0,
  "metadata": {
    "colab": {
      "name": "Kth Smallest Element in a BST.ipynb",
      "provenance": [],
      "collapsed_sections": []
    },
    "kernelspec": {
      "name": "python3",
      "display_name": "Python 3"
    },
    "language_info": {
      "name": "python"
    }
  },
  "cells": [
    {
      "cell_type": "markdown",
      "source": [
        "Kth Smallest Element in a BST\n",
        "\n",
        "**Medium**\n",
        "\n",
        "https://leetcode.com/problems/kth-smallest-element-in-a-bst"
      ],
      "metadata": {
        "id": "Z18h1mjarocY"
      }
    },
    {
      "cell_type": "code",
      "source": [
        "# First solution\n",
        "\n",
        "# Definition for a binary tree node.\n",
        "# class TreeNode:\n",
        "#     def __init__(self, val=0, left=None, right=None):\n",
        "#         self.val = val\n",
        "#         self.left = left\n",
        "#         self.right = right\n",
        "class Solution:\n",
        "    def __init__(self):\n",
        "        self.arr = []\n",
        "        \n",
        "    def makeArr(self, root: Optional[TreeNode]):\n",
        "        if (root == None):\n",
        "            return \n",
        "        self.makeArr(root.left)\n",
        "        self.makeArr(root.right)\n",
        "        self.arr.append(root.val)\n",
        "        return \n",
        "    \n",
        "    def kthSmallest(self, root: Optional[TreeNode], k: int) -> int:\n",
        "        self.makeArr(root)\n",
        "        self.arr.sort()\n",
        "        \n",
        "        return self.arr[k-1]"
      ],
      "metadata": {
        "id": "TI0zBP3vyiTp"
      },
      "execution_count": null,
      "outputs": []
    },
    {
      "cell_type": "code",
      "source": [
        "# Second solution\n",
        "\n",
        "# Definition for a binary tree node.\n",
        "# class TreeNode:\n",
        "#     def __init__(self, val=0, left=None, right=None):\n",
        "#         self.val = val\n",
        "#         self.left = left\n",
        "#         self.right = right\n",
        "class Solution:\n",
        "    def kthSmallest(self, root, k):\n",
        "        \"\"\"\n",
        "        :type root: TreeNode\n",
        "        :type k: int\n",
        "        :rtype: int\n",
        "        \"\"\"\n",
        "        def inorder(r):\n",
        "            return inorder(r.left) + [r.val] + inorder(r.right) if r else []\n",
        "    \n",
        "        return inorder(root)[k - 1]\n"
      ],
      "metadata": {
        "id": "qRGVD0X0sMEa"
      },
      "execution_count": null,
      "outputs": []
    }
  ]
}
{
  "nbformat": 4,
  "nbformat_minor": 0,
  "metadata": {
    "colab": {
      "name": "Encode and Decode TinyURL.ipynb",
      "provenance": [],
      "collapsed_sections": []
    },
    "kernelspec": {
      "name": "python3",
      "display_name": "Python 3"
    },
    "language_info": {
      "name": "python"
    }
  },
  "cells": [
    {
      "cell_type": "markdown",
      "source": [
        "Encode and Decode TinyURL\n",
        "\n",
        "**Medium**\n",
        "\n",
        "https://leetcode.com/problems/encode-and-decode-tinyurl/"
      ],
      "metadata": {
        "id": "Z18h1mjarocY"
      }
    },
    {
      "cell_type": "code",
      "source": [
        "from random import choice \n",
        "\n",
        "class Codec:\n",
        "\n",
        "    def __init__(self):\n",
        "        self.charset = '0123456789abcdefghijklmnopqrstuvwxyzABCDEFGHIJKLMNOPQRSTUVWXYZ'\n",
        "        self.hashDict = {}\n",
        "        \n",
        "    def getHash(self):\n",
        "        return ''.join(choice(self.charset) for i in range(6))\n",
        "    \n",
        "    \n",
        "    def encode(self, longUrl: str) -> str:\n",
        "        \"\"\"Encodes a URL to a shortened URL.\n",
        "        \"\"\"\n",
        "        self.hash = self.getHash()\n",
        "        shortUrl = 'http://tinyurl.com/' + self.hash\n",
        "        self.hashDict[shortUrl] = longUrl\n",
        "        \n",
        "        return shortUrl\n",
        "\n",
        "    def decode(self, shortUrl: str) -> str:\n",
        "        \"\"\"Decodes a shortened URL to its original URL.\n",
        "        \"\"\"\n",
        "        return self.hashDict.get(shortUrl)\n",
        "\n",
        "# Your Codec object will be instantiated and called as such:\n",
        "# codec = Codec()\n",
        "# codec.decode(codec.encode(url))\n"
      ],
      "metadata": {
        "id": "TI0zBP3vyiTp"
      },
      "execution_count": null,
      "outputs": []
    }
  ]
}
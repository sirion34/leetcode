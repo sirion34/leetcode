{
  "nbformat": 4,
  "nbformat_minor": 0,
  "metadata": {
    "colab": {
      "name": "Flatten Nested List Iterator.ipynb",
      "provenance": [],
      "collapsed_sections": []
    },
    "kernelspec": {
      "name": "python3",
      "display_name": "Python 3"
    },
    "language_info": {
      "name": "python"
    }
  },
  "cells": [
    {
      "cell_type": "markdown",
      "source": [
        "Flatten Nested List Iterator\n",
        "\n",
        "**Medium**\n",
        "\n",
        "https://leetcode.com/problems/flatten-nested-list-iterator/"
      ],
      "metadata": {
        "id": "Z18h1mjarocY"
      }
    },
    {
      "cell_type": "code",
      "source": [
        "# \"\"\"\n",
        "# This is the interface that allows for creating nested lists.\n",
        "# You should not implement it, or speculate about its implementation\n",
        "# \"\"\"\n",
        "#class NestedInteger:\n",
        "#    def isInteger(self) -> bool:\n",
        "#        \"\"\"\n",
        "#        return True if this NestedInteger holds a single integer, rather than a nested list.\n",
        "#        \"\"\"\n",
        "#\n",
        "#    def getInteger(self) -> int:\n",
        "#        \"\"\"\n",
        "#        return the single integer that this NestedInteger holds, if it holds a single integer\n",
        "#        Return None if this NestedInteger holds a nested list\n",
        "#        \"\"\"\n",
        "#\n",
        "#    def getList(self) -> [NestedInteger]:\n",
        "#        \"\"\"\n",
        "#        return the nested list that this NestedInteger holds, if it holds a nested list\n",
        "#        Return None if this NestedInteger holds a single integer\n",
        "#        \"\"\"\n",
        "\n",
        "class NestedIterator:\n",
        "    def __init__(self, nestedList: [NestedInteger]):\n",
        "        self.nestedList = nestedList\n",
        "        self.mainArray = []\n",
        "        self.createArr(self.nestedList)\n",
        "        self.iter = 0\n",
        "        print(self.mainArray)\n",
        "        \n",
        "    def createArr(self, ourArr):\n",
        "        for i in range(len(ourArr)):\n",
        "            if ourArr[i].isInteger():\n",
        "                self.mainArray.append(ourArr[i].getInteger())\n",
        "            else:\n",
        "                self.createArr(ourArr[i].getList())\n",
        "            \n",
        "    def next(self) -> int:\n",
        "        x = self.mainArray[self.iter]\n",
        "        self.iter += 1\n",
        "        return x\n",
        "    \n",
        "    def hasNext(self) -> bool:\n",
        "        if self.iter < len(self.mainArray):\n",
        "            return True\n",
        "        return False\n",
        "\n",
        "# Your NestedIterator object will be instantiated and called as such:\n",
        "# i, v = NestedIterator(nestedList), []\n",
        "# while i.hasNext(): v.append(i.next())"
      ],
      "metadata": {
        "id": "TI0zBP3vyiTp"
      },
      "execution_count": null,
      "outputs": []
    }
  ]
}
{
  "nbformat": 4,
  "nbformat_minor": 0,
  "metadata": {
    "colab": {
      "name": "Binary Search Tree Iterator.ipynb",
      "provenance": [],
      "collapsed_sections": []
    },
    "kernelspec": {
      "name": "python3",
      "display_name": "Python 3"
    },
    "language_info": {
      "name": "python"
    }
  },
  "cells": [
    {
      "cell_type": "markdown",
      "source": [
        "Binary Search Tree Iterator\n",
        "\n",
        "**Medium**\n",
        "\n",
        "https://leetcode.com/problems/binary-search-tree-iterator/"
      ],
      "metadata": {
        "id": "Z18h1mjarocY"
      }
    },
    {
      "cell_type": "code",
      "source": [
        "# Definition for a binary tree node.\n",
        "# class TreeNode:\n",
        "#     def __init__(self, val=0, left=None, right=None):\n",
        "#         self.val = val\n",
        "#         self.left = left\n",
        "#         self.right = right\n",
        "class BSTIterator:\n",
        "\n",
        "    def __init__(self, root: Optional[TreeNode]):\n",
        "        self.mystack = []\n",
        "        self.makeStack(root)\n",
        "        self.mystack.reverse()\n",
        "        return None\n",
        "        \n",
        "\n",
        "    def makeStack(self, root):\n",
        "        if root == None:\n",
        "            return root\n",
        "        self.makeStack(root.left)\n",
        "        self.mystack.append(root.val)\n",
        "        self.makeStack(root.right)\n",
        "        \n",
        "    def next(self) -> int:\n",
        "        if self.mystack == None:\n",
        "            return None\n",
        "        return self.mystack.pop(-1)\n",
        "\n",
        "    def hasNext(self) -> bool:\n",
        "        if self.mystack:\n",
        "            return True\n",
        "        else:\n",
        "            return False\n",
        "\n",
        "\n",
        "# Your BSTIterator object will be instantiated and called as such:\n",
        "# obj = BSTIterator(root)\n",
        "# param_1 = obj.next()\n",
        "# param_2 = obj.hasNext()"
      ],
      "metadata": {
        "id": "TI0zBP3vyiTp"
      },
      "execution_count": null,
      "outputs": []
    }
  ]
}
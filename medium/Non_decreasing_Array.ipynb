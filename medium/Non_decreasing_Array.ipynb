{
  "nbformat": 4,
  "nbformat_minor": 0,
  "metadata": {
    "colab": {
      "name": "Non-decreasing Array.ipynb",
      "provenance": [],
      "collapsed_sections": []
    },
    "kernelspec": {
      "name": "python3",
      "display_name": "Python 3"
    },
    "language_info": {
      "name": "python"
    }
  },
  "cells": [
    {
      "cell_type": "markdown",
      "source": [
        "Non-decreasing Array\n",
        "\n",
        "**Medium**\n",
        "\n",
        "https://leetcode.com/problems/non-decreasing-array/"
      ],
      "metadata": {
        "id": "Z18h1mjarocY"
      }
    },
    {
      "cell_type": "code",
      "source": [
        "class Solution:\n",
        "    def checkPossibility(self, nums: List[int]) -> bool:\n",
        "        check =0       \n",
        "        for i in range(1, len(nums)):       \n",
        "            if nums[i]<nums[i-1]:\n",
        "                if check==1:\n",
        "                    return False\n",
        "                check+=1\n",
        "                if i>=2 and nums[i-2]>nums[i]:\n",
        "                    nums[i]=nums[i-1]                    \n",
        "        return True"
      ],
      "metadata": {
        "id": "TI0zBP3vyiTp"
      },
      "execution_count": null,
      "outputs": []
    }
  ]
}
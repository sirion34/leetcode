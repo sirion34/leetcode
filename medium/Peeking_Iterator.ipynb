{
  "nbformat": 4,
  "nbformat_minor": 0,
  "metadata": {
    "colab": {
      "name": "Peeking Iterator.ipynb",
      "provenance": [],
      "collapsed_sections": []
    },
    "kernelspec": {
      "name": "python3",
      "display_name": "Python 3"
    },
    "language_info": {
      "name": "python"
    }
  },
  "cells": [
    {
      "cell_type": "markdown",
      "source": [
        "Peeking Iterator\n",
        "\n",
        "**Medium**\n",
        "\n",
        "https://leetcode.com/problems/peeking-iterator/"
      ],
      "metadata": {
        "id": "Z18h1mjarocY"
      }
    },
    {
      "cell_type": "code",
      "source": [
        "# Below is the interface for Iterator, which is already defined for you.\n",
        "#\n",
        "# class Iterator:\n",
        "#     def __init__(self, nums):\n",
        "#         \"\"\"\n",
        "#         Initializes an iterator object to the beginning of a list.\n",
        "#         :type nums: List[int]\n",
        "#         \"\"\"\n",
        "#\n",
        "#     def hasNext(self):\n",
        "#         \"\"\"\n",
        "#         Returns true if the iteration has more elements.\n",
        "#         :rtype: bool\n",
        "#         \"\"\"\n",
        "#\n",
        "#     def next(self):\n",
        "#         \"\"\"\n",
        "#         Returns the next element in the iteration.\n",
        "#         :rtype: int\n",
        "#         \"\"\"\n",
        "\n",
        "class PeekingIterator:\n",
        "    def __init__(self, iterator):\n",
        "        \"\"\"\n",
        "        Initialize your data structure here.\n",
        "        :type iterator: Iterator\n",
        "        \"\"\"\n",
        "        self.iterator = iterator\n",
        "        self.current = -100 \n",
        "        self.nextNum = self.iterator.next() \n",
        "        \n",
        "    def peek(self):\n",
        "        \"\"\"\n",
        "        Returns the next element in the iteration without advancing the iterator.\n",
        "        :rtype: int\n",
        "        \"\"\"\n",
        "        return self.nextNum\n",
        "\n",
        "    def next(self):\n",
        "        \"\"\"\n",
        "        :rtype: int\n",
        "        \"\"\"\n",
        "        self.current = self.nextNum\n",
        "        self.nextNum = self.iterator.next()\n",
        "        \n",
        "        return self.current\n",
        "\n",
        "    def hasNext(self):\n",
        "        \"\"\"\n",
        "        :rtype: bool\n",
        "        \"\"\"\n",
        "\n",
        "        if self.nextNum == -100000:\n",
        "            return False\n",
        "        else:\n",
        "            return True\n",
        "    \n",
        "# Your PeekingIterator object will be instantiated and called as such:\n",
        "# iter = PeekingIterator(Iterator(nums))\n",
        "# while iter.hasNext():\n",
        "#     val = iter.peek()   # Get the next element but not advance the iterator.\n",
        "#     iter.next()         # Should return the same value as [val]."
      ],
      "metadata": {
        "id": "TI0zBP3vyiTp"
      },
      "execution_count": null,
      "outputs": []
    }
  ]
}
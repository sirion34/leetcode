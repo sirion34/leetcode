{
  "nbformat": 4,
  "nbformat_minor": 0,
  "metadata": {
    "colab": {
      "name": "Convert BST to Greater Tree.ipynb",
      "provenance": [],
      "collapsed_sections": []
    },
    "kernelspec": {
      "name": "python3",
      "display_name": "Python 3"
    },
    "language_info": {
      "name": "python"
    }
  },
  "cells": [
    {
      "cell_type": "markdown",
      "source": [
        "Convert BST to Greater Tree\n",
        "\n",
        "**Medium**\n",
        "\n",
        "https://leetcode.com/problems/convert-bst-to-greater-tree/submissions/"
      ],
      "metadata": {
        "id": "Z18h1mjarocY"
      }
    },
    {
      "cell_type": "code",
      "source": [
        "# Definition for a binary tree node.\n",
        "# class TreeNode:\n",
        "#     def __init__(self, val=0, left=None, right=None):\n",
        "#         self.val = val\n",
        "#         self.left = left\n",
        "#         self.right = right\n",
        "class Solution:\n",
        "    def __init__(self):\n",
        "        self.total = 0\n",
        "        \n",
        "    def convertBST(self, root: Optional[TreeNode]) -> Optional[TreeNode]:\n",
        "        \n",
        "        if (root == None):\n",
        "            return None\n",
        "        # if (root.left == None and root.right == None):\n",
        "        #     self.total += root.val\n",
        "        #     root.val = self.total\n",
        "        #     return root.val\n",
        "        \n",
        "        \n",
        "        self.convertBST(root.right)\n",
        "        self.total += root.val\n",
        "        root.val = self.total\n",
        "        self.convertBST(root.left)\n",
        "        \n",
        "        return root"
      ],
      "metadata": {
        "id": "TI0zBP3vyiTp"
      },
      "execution_count": null,
      "outputs": []
    }
  ]
}
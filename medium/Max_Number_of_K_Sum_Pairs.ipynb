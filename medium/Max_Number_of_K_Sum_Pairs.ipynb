{
  "nbformat": 4,
  "nbformat_minor": 0,
  "metadata": {
    "colab": {
      "name": " Max Number of K-Sum Pairs.ipynb",
      "provenance": [],
      "collapsed_sections": []
    },
    "kernelspec": {
      "name": "python3",
      "display_name": "Python 3"
    },
    "language_info": {
      "name": "python"
    }
  },
  "cells": [
    {
      "cell_type": "markdown",
      "source": [
        "Max Number of K-Sum Pairs\n",
        "\n",
        "**Medium**\n",
        "\n",
        "https://leetcode.com/problems/max-number-of-k-sum-pairs/"
      ],
      "metadata": {
        "id": "Z18h1mjarocY"
      }
    },
    {
      "cell_type": "code",
      "source": [
        "class Solution:\n",
        "    def maxOperations(self, nums: List[int], k: int) -> int:\n",
        "        nums.sort()\n",
        "        x = 0\n",
        "        \n",
        "        left = 0\n",
        "        right = len(nums) - 1\n",
        "        \n",
        "        while left < right:\n",
        "            \n",
        "            if nums[left] + nums[right] == k:\n",
        "                x += 1\n",
        "                left += 1\n",
        "                right -= 1\n",
        "            elif nums[left] + nums[right] < k:\n",
        "                left += 1\n",
        "            else: \n",
        "                right -= 1\n",
        "        \n",
        "        return x"
      ],
      "metadata": {
        "id": "TI0zBP3vyiTp"
      },
      "execution_count": null,
      "outputs": []
    }
  ]
}
{
  "nbformat": 4,
  "nbformat_minor": 0,
  "metadata": {
    "colab": {
      "name": "Median of Two Sorted Arrays.ipynb",
      "provenance": [],
      "collapsed_sections": []
    },
    "kernelspec": {
      "name": "python3",
      "display_name": "Python 3"
    },
    "language_info": {
      "name": "python"
    }
  },
  "cells": [
    {
      "cell_type": "markdown",
      "source": [
        "Median of Two Sorted Arrays\n",
        "\n",
        "**Hard**\n",
        "\n",
        "https://leetcode.com/problems/median-of-two-sorted-arrays/"
      ],
      "metadata": {
        "id": "Z18h1mjarocY"
      }
    },
    {
      "cell_type": "code",
      "source": [
        "class Solution:\n",
        "    def findMedianSortedArrays(self, nums1: List[int], nums2: List[int]) -> float:\n",
        "      \n",
        "        for i in range(len(nums2)):\n",
        "            nums1.append(nums2[i])\n",
        "        nums1.sort()\n",
        "        \n",
        "        if (len(nums1)%2 == 1):\n",
        "            return nums1[(len(nums1))//2]\n",
        "        else:\n",
        "            return (nums1[(len(nums1))//2]+nums1[(len(nums1))//2-1])/2"
      ],
      "metadata": {
        "id": "TI0zBP3vyiTp"
      },
      "execution_count": null,
      "outputs": []
    }
  ]
}
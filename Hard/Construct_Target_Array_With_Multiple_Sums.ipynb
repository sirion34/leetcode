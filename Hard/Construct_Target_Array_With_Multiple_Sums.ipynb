{
  "nbformat": 4,
  "nbformat_minor": 0,
  "metadata": {
    "colab": {
      "name": "Construct Target Array With Multiple Sums.ipynb",
      "provenance": [],
      "collapsed_sections": []
    },
    "kernelspec": {
      "name": "python3",
      "display_name": "Python 3"
    },
    "language_info": {
      "name": "python"
    }
  },
  "cells": [
    {
      "cell_type": "markdown",
      "source": [
        "Construct Target Array With Multiple Sums\n",
        "\n",
        "**Hard**\n",
        "\n",
        "https://leetcode.com/problems/construct-target-array-with-multiple-sums/"
      ],
      "metadata": {
        "id": "Z18h1mjarocY"
      }
    },
    {
      "cell_type": "code",
      "source": [
        "class Solution:\n",
        "    def isPossible(self, target: List[int]) -> bool:\n",
        "        \n",
        "        if len(target) == 1:\n",
        "            return target[0] == 1\n",
        "        start = [1]*len(target)\n",
        "        \n",
        "        while True:\n",
        "            target.sort()\n",
        "            if target[-2] == 1:\n",
        "                if (target[-1]-1)%(len(target)-1)==0:\n",
        "                    return True\n",
        "                else:\n",
        "                    return False\n",
        "\n",
        "            target[-1] = min(2*target[-1] - sum(target), target[-1] %(sum(target) - target[-1]))\n",
        "            if target[-1] < 1:\n",
        "                return False\n",
        "            if target == start:\n",
        "                return True"
      ],
      "metadata": {
        "id": "TI0zBP3vyiTp"
      },
      "execution_count": null,
      "outputs": []
    }
  ]
}
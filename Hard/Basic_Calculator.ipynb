{
  "nbformat": 4,
  "nbformat_minor": 0,
  "metadata": {
    "colab": {
      "name": "Basic Calculator.ipynb",
      "provenance": [],
      "collapsed_sections": []
    },
    "kernelspec": {
      "name": "python3",
      "display_name": "Python 3"
    },
    "language_info": {
      "name": "python"
    }
  },
  "cells": [
    {
      "cell_type": "markdown",
      "source": [
        "Basic Calculator\n",
        "\n",
        "**Hard**\n",
        "\n",
        "https://leetcode.com/problems/basic-calculator/"
      ],
      "metadata": {
        "id": "Z18h1mjarocY"
      }
    },
    {
      "cell_type": "code",
      "source": [
        "class Solution:\n",
        "    def calculate(self, s: str) -> int:\n",
        "        curr_num, len_s = 0, len(s)\n",
        "        sign = 1  #1 for +ve and -1 for -ve\n",
        "        \n",
        "        opr_stack = []\n",
        "        stack = []\n",
        "        \n",
        "        for i in range(len_s):\n",
        "            if s[i].isnumeric():\n",
        "                curr_num = (curr_num * 10) + int(s[i]) #- ord('0')\n",
        "            if not s[i].isnumeric() and s[i] != ' ' or i == len_s - 1:\n",
        "                if s[i] == '(':\n",
        "                    if opr_stack:\n",
        "                        opr_stack.append(sign * opr_stack[-1])\n",
        "                    else:\n",
        "                        opr_stack.append(sign)\n",
        "                    sign = 1\n",
        "                elif s[i] == ')':\n",
        "                    if curr_num != 0:\n",
        "                        stack.append(curr_num * sign * opr_stack[-1])\n",
        "                        curr_num = 0\n",
        "                    if opr_stack:\n",
        "                        opr_stack.pop()\n",
        "                else:\n",
        "                    if opr_stack:\n",
        "                        stack.append(curr_num * sign * opr_stack[-1])\n",
        "                    else:\n",
        "                        stack.append(curr_num * sign)\n",
        "                    \n",
        "                    curr_num = 0\n",
        "                    sign = 1 if s[i] == '+' else -1\n",
        "        \n",
        "        answer = 0\n",
        "        while stack:\n",
        "            answer += stack.pop()\n",
        "            \n",
        "        return answer\n",
        "    "
      ],
      "metadata": {
        "id": "TI0zBP3vyiTp"
      },
      "execution_count": null,
      "outputs": []
    }
  ]
}
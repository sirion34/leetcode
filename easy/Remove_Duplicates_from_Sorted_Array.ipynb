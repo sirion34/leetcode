{
  "nbformat": 4,
  "nbformat_minor": 0,
  "metadata": {
    "colab": {
      "name": "Remove Duplicates from Sorted Array.ipynb",
      "provenance": [],
      "collapsed_sections": []
    },
    "kernelspec": {
      "name": "python3",
      "display_name": "Python 3"
    },
    "language_info": {
      "name": "python"
    }
  },
  "cells": [
    {
      "cell_type": "markdown",
      "source": [
        "Remove Duplicates from Sorted Array\n",
        "\n",
        "**Easy**\n",
        "\n",
        "https://leetcode.com/problems/remove-duplicates-from-sorted-array/"
      ],
      "metadata": {
        "id": "Z18h1mjarocY"
      }
    },
    {
      "cell_type": "code",
      "source": [
        "class Solution:\n",
        "    def removeDuplicates(self, nums: List[int]) -> int:\n",
        "        check = nums[0]\n",
        "        k = 1\n",
        "        for i in range(1, len(nums)):\n",
        "            if (nums[i] == check):\n",
        "                nums[i] = 999\n",
        "            else:\n",
        "                check = nums[i]\n",
        "                k += 1\n",
        "    \n",
        "        nums.sort()\n",
        "        return k"
      ],
      "metadata": {
        "id": "TI0zBP3vyiTp"
      },
      "execution_count": null,
      "outputs": []
    }
  ]
}
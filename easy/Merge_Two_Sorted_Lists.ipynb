{
  "nbformat": 4,
  "nbformat_minor": 0,
  "metadata": {
    "colab": {
      "name": "Merge Two Sorted Lists.ipynb",
      "provenance": [],
      "collapsed_sections": []
    },
    "kernelspec": {
      "name": "python3",
      "display_name": "Python 3"
    },
    "language_info": {
      "name": "python"
    }
  },
  "cells": [
    {
      "cell_type": "markdown",
      "source": [
        "Merge Two Sorted Lists\n",
        "\n",
        "**Easy**\n",
        "\n",
        "https://leetcode.com/problems/merge-two-sorted-lists/"
      ],
      "metadata": {
        "id": "Z18h1mjarocY"
      }
    },
    {
      "cell_type": "code",
      "source": [
        "# Definition for singly-linked list.\n",
        "# class ListNode:\n",
        "#     def __init__(self, val=0, next=None):\n",
        "#         self.val = val\n",
        "#         self.next = next\n",
        "class Solution:\n",
        "    # def __init__(self):\n",
        "    #     self.anw = ListNode(val = None)\n",
        "    \n",
        "    def mergeTwoLists(self, list1: Optional[ListNode], list2: Optional[ListNode]) -> Optional[ListNode]:\n",
        "        cur = dummy = ListNode()\n",
        "        while list1 and list2:               \n",
        "            if list1.val < list2.val:\n",
        "                cur.next = list1\n",
        "                list1, cur = list1.next, list1\n",
        "            else:\n",
        "                cur.next = list2\n",
        "                list2, cur = list2.next, list2\n",
        "                \n",
        "        if list1 or list2:\n",
        "            cur.next = list1 if list1 else list2\n",
        "            \n",
        "        return dummy.next\n"
      ],
      "metadata": {
        "id": "TI0zBP3vyiTp"
      },
      "execution_count": null,
      "outputs": []
    }
  ]
}
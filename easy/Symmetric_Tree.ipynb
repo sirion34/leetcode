{
  "nbformat": 4,
  "nbformat_minor": 0,
  "metadata": {
    "colab": {
      "name": "Symmetric Tree.ipynb",
      "provenance": [],
      "collapsed_sections": []
    },
    "kernelspec": {
      "name": "python3",
      "display_name": "Python 3"
    },
    "language_info": {
      "name": "python"
    }
  },
  "cells": [
    {
      "cell_type": "markdown",
      "source": [
        "Symmetric Tree\n",
        "\n",
        "**Easy**\n",
        "\n",
        "https://leetcode.com/problems/symmetric-tree/"
      ],
      "metadata": {
        "id": "Z18h1mjarocY"
      }
    },
    {
      "cell_type": "code",
      "source": [
        "# Definition for a binary tree node.\n",
        "# class TreeNode:\n",
        "#     def __init__(self, val=0, left=None, right=None):\n",
        "#         self.val = val\n",
        "#         self.left = left\n",
        "#         self.right = right\n",
        "class Solution:\n",
        "    def symm(self, p, q):\n",
        "        if not p and not q:\n",
        "            return True\n",
        "        \n",
        "        if p and q:\n",
        "            return p.val == q.val and self.symm(p.left, q.right) and self.symm(p.right, q.left)\n",
        "        \n",
        "        return False\n",
        "    \n",
        "    def isSymmetric(self, root: Optional[TreeNode]) -> bool:\n",
        "        if not root:\n",
        "            return True\n",
        "        \n",
        "        return self.symm(root.left, root.right)\n",
        "        \n",
        "        "
      ],
      "metadata": {
        "id": "TI0zBP3vyiTp"
      },
      "execution_count": null,
      "outputs": []
    }
  ]
}
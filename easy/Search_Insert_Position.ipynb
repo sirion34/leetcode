{
  "nbformat": 4,
  "nbformat_minor": 0,
  "metadata": {
    "colab": {
      "name": "Search Insert Position.ipynb",
      "provenance": [],
      "collapsed_sections": []
    },
    "kernelspec": {
      "name": "python3",
      "display_name": "Python 3"
    },
    "language_info": {
      "name": "python"
    }
  },
  "cells": [
    {
      "cell_type": "markdown",
      "source": [
        "Search Insert Position\n",
        "\n",
        "**Easy**\n",
        "\n",
        "https://leetcode.com/problems/search-insert-position/"
      ],
      "metadata": {
        "id": "Z18h1mjarocY"
      }
    },
    {
      "cell_type": "code",
      "source": [
        "class Solution:\n",
        "    def searchInsert(self, nums: List[int], target: int) -> int:\n",
        "        leng = len(nums)//2\n",
        "        cusoch = leng\n",
        "        \n",
        "        while True:\n",
        "            \n",
        "            if (0 == leng and target < nums[0]):\n",
        "                return leng\n",
        "            if (len(nums) == leng):\n",
        "                return leng\n",
        "            \n",
        "            \n",
        "            \n",
        "            if (target == nums[leng]):\n",
        "                return leng\n",
        "            if (target < nums[leng] and target > nums[leng-1]):\n",
        "                return leng\n",
        "            \n",
        "            if (target < nums[leng]):\n",
        "                if (cusoch>= 1):\n",
        "                    cusoch = cusoch//2\n",
        "                else:\n",
        "                    cusoch = 1\n",
        "                leng -= cusoch\n",
        "                if (0 == leng):\n",
        "                    return leng\n",
        "            if (target > nums[leng]):\n",
        "                if (cusoch>= 1):\n",
        "                    cusoch = cusoch//2\n",
        "                else:\n",
        "                    cusoch = 1\n",
        "                leng += cusoch"
      ],
      "metadata": {
        "id": "TI0zBP3vyiTp"
      },
      "execution_count": null,
      "outputs": []
    }
  ]
}
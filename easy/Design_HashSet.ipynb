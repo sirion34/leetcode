{
  "nbformat": 4,
  "nbformat_minor": 0,
  "metadata": {
    "colab": {
      "name": "Design HashSet.ipynb",
      "provenance": [],
      "collapsed_sections": []
    },
    "kernelspec": {
      "name": "python3",
      "display_name": "Python 3"
    },
    "language_info": {
      "name": "python"
    }
  },
  "cells": [
    {
      "cell_type": "markdown",
      "source": [
        "Design HashSet\n",
        "\n",
        "**Easy**\n",
        "\n",
        "https://leetcode.com/problems/design-hashset"
      ],
      "metadata": {
        "id": "Z18h1mjarocY"
      }
    },
    {
      "cell_type": "code",
      "source": [
        "class MyHashSet:\n",
        "\n",
        "    def __init__(self):\n",
        "        self.hase = set()\n",
        "\n",
        "    def add(self, key: int) -> None:\n",
        "        self.hase.add(key)\n",
        "        return\n",
        "\n",
        "    def remove(self, key: int) -> None:\n",
        "        self.hase.discard(key)\n",
        "        return\n",
        "\n",
        "    def contains(self, key: int) -> bool:\n",
        "        co = self.hase.copy()\n",
        "        co2 = set()\n",
        "        co2.add(key)\n",
        "        co = co - co2\n",
        "        if co == self.hase:\n",
        "            return False\n",
        "        else:\n",
        "            return True\n",
        "\n",
        "# Your MyHashSet object will be instantiated and called as such:\n",
        "# obj = MyHashSet()\n",
        "# obj.add(key)\n",
        "# obj.remove(key)\n",
        "# param_3 = obj.contains(key)"
      ],
      "metadata": {
        "id": "TI0zBP3vyiTp"
      },
      "execution_count": null,
      "outputs": []
    }
  ]
}
{
  "nbformat": 4,
  "nbformat_minor": 0,
  "metadata": {
    "colab": {
      "name": "Find the Difference of Two Arrays.ipynb",
      "provenance": [],
      "collapsed_sections": []
    },
    "kernelspec": {
      "name": "python3",
      "display_name": "Python 3"
    },
    "language_info": {
      "name": "python"
    }
  },
  "cells": [
    {
      "cell_type": "markdown",
      "source": [
        "Find the Difference of Two Arrays\n",
        "\n",
        "**Easy**\n",
        "\n",
        "https://leetcode.com/problems/find-the-difference-of-two-arrays/"
      ],
      "metadata": {
        "id": "Z18h1mjarocY"
      }
    },
    {
      "cell_type": "code",
      "source": [
        "class Solution:\n",
        "    def findDifference(self, nums1: List[int], nums2: List[int]) -> List[List[int]]:\n",
        "        set1 = set()\n",
        "        set2 = set()\n",
        "\n",
        "        for i in range(len(nums1)):\n",
        "            set1.add(nums1[i])\n",
        "            \n",
        "        for i in range(len(nums2)):\n",
        "            set2.add(nums2[i])\n",
        "        \n",
        "        pop1 = []\n",
        "        pop2 = []\n",
        "        \n",
        "        for i in set1:\n",
        "            if i not in set2:\n",
        "                pop1.append(i)\n",
        "        \n",
        "        for i in set2:\n",
        "            if i not in set1:\n",
        "                pop2.append(i)\n",
        "        \n",
        "                \n",
        "        return [pop1, pop2]"
      ],
      "metadata": {
        "id": "TI0zBP3vyiTp"
      },
      "execution_count": null,
      "outputs": []
    }
  ]
}
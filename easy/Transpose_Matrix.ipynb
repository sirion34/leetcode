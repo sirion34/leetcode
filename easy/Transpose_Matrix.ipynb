{
  "nbformat": 4,
  "nbformat_minor": 0,
  "metadata": {
    "colab": {
      "name": "Transpose Matrix.ipynb",
      "provenance": [],
      "collapsed_sections": []
    },
    "kernelspec": {
      "name": "python3",
      "display_name": "Python 3"
    },
    "language_info": {
      "name": "python"
    }
  },
  "cells": [
    {
      "cell_type": "markdown",
      "source": [
        "Transpose Matrix\n",
        "\n",
        "**Easy**\n",
        "\n",
        "https://leetcode.com/problems/transpose-matrix/"
      ],
      "metadata": {
        "id": "Z18h1mjarocY"
      }
    },
    {
      "cell_type": "code",
      "source": [
        "class Solution:\n",
        "    def transpose(self, matrix: List[List[int]]) -> List[List[int]]:\n",
        "        answ = []\n",
        "        \n",
        "        for i in range(len(matrix[0])):\n",
        "            answ.append([])\n",
        "            \n",
        "        for i in range(len(matrix)):\n",
        "            for j in range(len(matrix[0])):\n",
        "                answ[j].append(matrix[i][j])\n",
        "\n",
        "        return answ"
      ],
      "metadata": {
        "id": "TI0zBP3vyiTp"
      },
      "execution_count": null,
      "outputs": []
    }
  ]
}
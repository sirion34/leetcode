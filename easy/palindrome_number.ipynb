{
  "nbformat": 4,
  "nbformat_minor": 0,
  "metadata": {
    "colab": {
      "name": "palindrome-number.ipynb",
      "provenance": [],
      "collapsed_sections": []
    },
    "kernelspec": {
      "name": "python3",
      "display_name": "Python 3"
    },
    "language_info": {
      "name": "python"
    }
  },
  "cells": [
    {
      "cell_type": "markdown",
      "source": [
        "palindrome-number\n",
        "\n",
        "**Easy**\n",
        "\n",
        "https://leetcode.com/problems/palindrome-number/"
      ],
      "metadata": {
        "id": "Z18h1mjarocY"
      }
    },
    {
      "cell_type": "code",
      "source": [
        "class Solution:\n",
        "    def isPalindrome(self, x: int) -> bool:\n",
        "        if (x < 0):\n",
        "            return False\n",
        "        if (x == 0):\n",
        "            return True\n",
        "        x = str(x)\n",
        "        k = len(x)\n",
        "        for i in range(k//2):\n",
        "            k-=1\n",
        "            if (x[i] != x[k]):\n",
        "                return False\n",
        "        return True"
      ],
      "metadata": {
        "id": "TI0zBP3vyiTp"
      },
      "execution_count": null,
      "outputs": []
    }
  ]
}
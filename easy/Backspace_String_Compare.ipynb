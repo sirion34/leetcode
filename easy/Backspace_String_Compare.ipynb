{
  "nbformat": 4,
  "nbformat_minor": 0,
  "metadata": {
    "colab": {
      "name": " Backspace String Compare.ipynb",
      "provenance": [],
      "collapsed_sections": []
    },
    "kernelspec": {
      "name": "python3",
      "display_name": "Python 3"
    },
    "language_info": {
      "name": "python"
    }
  },
  "cells": [
    {
      "cell_type": "markdown",
      "source": [
        "Backspace String Compare\n",
        "\n",
        "**Easy**\n",
        "\n",
        "https://leetcode.com/problems/backspace-string-compare"
      ],
      "metadata": {
        "id": "Z18h1mjarocY"
      }
    },
    {
      "cell_type": "code",
      "source": [
        "class Solution:\n",
        "    def backspaceCompare(self, s: str, t: str) -> bool:\n",
        "        dies_s = []\n",
        "        dies_t = []\n",
        "        \n",
        "        for i in range(len(s)):\n",
        "            if s[i] == '#':\n",
        "                if dies_s == []:\n",
        "                    continue\n",
        "                else:\n",
        "                    dies_s.pop(-1)\n",
        "            else:\n",
        "                dies_s.append(s[i])\n",
        "                \n",
        "        for i in range(len(t)):\n",
        "            if t[i] == '#':\n",
        "                if dies_t == []:\n",
        "                    continue\n",
        "                else:\n",
        "                    dies_t.pop(-1)\n",
        "            else:\n",
        "                dies_t.append(t[i])\n",
        "                \n",
        "        if dies_s == dies_t:\n",
        "            return True\n",
        "        else:\n",
        "            return False"
      ],
      "metadata": {
        "id": "TI0zBP3vyiTp"
      },
      "execution_count": null,
      "outputs": []
    }
  ]
}
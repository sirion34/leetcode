{
  "nbformat": 4,
  "nbformat_minor": 0,
  "metadata": {
    "colab": {
      "name": "Min Stack.ipynb",
      "provenance": [],
      "collapsed_sections": []
    },
    "kernelspec": {
      "name": "python3",
      "display_name": "Python 3"
    },
    "language_info": {
      "name": "python"
    }
  },
  "cells": [
    {
      "cell_type": "markdown",
      "source": [
        "Min Stack\n",
        "\n",
        "**Easy**\n",
        "\n",
        "https://leetcode.com/problems/min-stack/"
      ],
      "metadata": {
        "id": "Z18h1mjarocY"
      }
    },
    {
      "cell_type": "code",
      "source": [
        "class MinStack:\n",
        "\n",
        "    def __init__(self):\n",
        "        self.stack = []\n",
        "\n",
        "    def push(self, val: int) -> None:\n",
        "        self.stack.append(val)\n",
        "        return 0\n",
        "\n",
        "    def pop(self) -> None:\n",
        "        self.stack.pop(-1)\n",
        "        return 0\n",
        "\n",
        "    def top(self) -> int:\n",
        "        mine = self.stack.pop(-1)\n",
        "        self.stack.append(mine)\n",
        "        return mine\n",
        "\n",
        "    def getMin(self) -> int:\n",
        "        fef = self.stack[0]\n",
        "        for i in range(len(self.stack)):\n",
        "            if (fef > self.stack[i]):\n",
        "                fef = self.stack[i]\n",
        "        return fef\n",
        "\n",
        "\n",
        "# Your MinStack object will be instantiated and called as such:\n",
        "# obj = MinStack()\n",
        "# obj.push(val)\n",
        "# obj.pop()\n",
        "# param_3 = obj.top()\n",
        "# param_4 = obj.getMin()"
      ],
      "metadata": {
        "id": "TI0zBP3vyiTp"
      },
      "execution_count": null,
      "outputs": []
    }
  ]
}
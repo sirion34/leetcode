{
  "nbformat": 4,
  "nbformat_minor": 0,
  "metadata": {
    "colab": {
      "name": "roman-to-integer.ipynb",
      "provenance": [],
      "collapsed_sections": []
    },
    "kernelspec": {
      "name": "python3",
      "display_name": "Python 3"
    },
    "language_info": {
      "name": "python"
    }
  },
  "cells": [
    {
      "cell_type": "markdown",
      "source": [
        "roman-to-integer\n",
        "\n",
        "**Easy**\n",
        "\n",
        "https://leetcode.com/problems/roman-to-integer/"
      ],
      "metadata": {
        "id": "Z18h1mjarocY"
      }
    },
    {
      "cell_type": "code",
      "source": [
        "class Solution:\n",
        "    def romanToInt(self, s: str) -> int:\n",
        "        answ = 0\n",
        "        for i in range(len(s)):\n",
        "            if (s[i] == 'I'):\n",
        "                answ += 1\n",
        "                \n",
        "            if (s[i] == 'V'):\n",
        "                if (s[i-1] != 'I'):\n",
        "                    answ += 5\n",
        "                else:\n",
        "                    answ += 3\n",
        "                    if (i == 0):\n",
        "                        answ += 2\n",
        "                \n",
        "            if (s[i] == 'X'):\n",
        "                if (s[i-1] != 'I'):\n",
        "                    answ += 10\n",
        "                else:\n",
        "                    answ += 8\n",
        "                    if (i == 0):\n",
        "                        answ += 2\n",
        "                    \n",
        "            if (s[i] == 'L'):\n",
        "                if (s[i-1] != 'X'):\n",
        "                    answ += 50\n",
        "                else:\n",
        "                    answ += 30    \n",
        "                    if (i == 0):\n",
        "                        answ += 20\n",
        "                \n",
        "            if (s[i] == 'C'):\n",
        "                if (s[i-1] != 'X'):\n",
        "                    answ += 100\n",
        "                else:\n",
        "                    answ += 80\n",
        "                    if (i == 0):\n",
        "                        answ += 20\n",
        "                \n",
        "            if (s[i] == 'D'):\n",
        "                if (s[i-1] != 'C'):\n",
        "                    answ += 500\n",
        "                else:\n",
        "                    answ += 300\n",
        "                    if (i == 0):\n",
        "                        answ += 200\n",
        "                \n",
        "            if (s[i] == 'M'):\n",
        "                if (s[i-1] != 'C'):\n",
        "                    answ += 1000\n",
        "                else:\n",
        "                    answ += 800\n",
        "                    if (i == 0):\n",
        "                        answ += 200\n",
        "                        \n",
        "                \n",
        "        return answ"
      ],
      "metadata": {
        "id": "TI0zBP3vyiTp",
        "colab": {
          "base_uri": "https://localhost:8080/"
        },
        "outputId": "e8067a15-bbdb-4424-b180-a561e776ace5"
      },
      "execution_count": 3,
      "outputs": [
        {
          "output_type": "stream",
          "name": "stdout",
          "text": [
            "V\n",
            "I\n",
            "1994\n"
          ]
        }
      ]
    }
  ]
}
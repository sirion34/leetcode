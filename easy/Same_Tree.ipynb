{
  "nbformat": 4,
  "nbformat_minor": 0,
  "metadata": {
    "colab": {
      "name": "Same Tree.ipynb",
      "provenance": [],
      "collapsed_sections": []
    },
    "kernelspec": {
      "name": "python3",
      "display_name": "Python 3"
    },
    "language_info": {
      "name": "python"
    }
  },
  "cells": [
    {
      "cell_type": "markdown",
      "source": [
        "Same Tree\n",
        "\n",
        "**Easy**\n",
        "\n",
        "https://leetcode.com/problems/same-tree/"
      ],
      "metadata": {
        "id": "Z18h1mjarocY"
      }
    },
    {
      "cell_type": "code",
      "source": [
        "# Definition for a binary tree node.\n",
        "# class TreeNode:\n",
        "#     def __init__(self, val=0, left=None, right=None):\n",
        "#         self.val = val\n",
        "#         self.left = left\n",
        "#         self.right = right\n",
        "class Solution:\n",
        "\n",
        "    def isSameTree(self, p: Optional[TreeNode], q: Optional[TreeNode]) -> bool:\n",
        "        \n",
        "        if not p and not q:\n",
        "            return True\n",
        "        \n",
        "        if p and q:\n",
        "            return p.val == q.val and self.isSameTree(p.left, q.left) and self.isSameTree(p.right, q.right)\n",
        "        \n",
        "        return False"
      ],
      "metadata": {
        "id": "TI0zBP3vyiTp"
      },
      "execution_count": null,
      "outputs": []
    }
  ]
}
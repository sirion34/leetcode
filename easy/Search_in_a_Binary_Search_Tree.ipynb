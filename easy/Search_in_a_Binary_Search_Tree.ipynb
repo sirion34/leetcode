{
  "nbformat": 4,
  "nbformat_minor": 0,
  "metadata": {
    "colab": {
      "name": "Search in a Binary Search Tree.ipynb",
      "provenance": [],
      "collapsed_sections": []
    },
    "kernelspec": {
      "name": "python3",
      "display_name": "Python 3"
    },
    "language_info": {
      "name": "python"
    }
  },
  "cells": [
    {
      "cell_type": "markdown",
      "source": [
        "Search in a Binary Search Tree\n",
        "\n",
        "**Easy**\n",
        "\n",
        "https://leetcode.com/problems/search-in-a-binary-search-tree/"
      ],
      "metadata": {
        "id": "Z18h1mjarocY"
      }
    },
    {
      "cell_type": "code",
      "source": [
        "# Definition for a binary tree node.\n",
        "# class TreeNode:\n",
        "#     def __init__(self, val=0, left=None, right=None):\n",
        "#         self.val = val\n",
        "#         self.left = left\n",
        "#         self.right = right\n",
        "class Solution:\n",
        "    def searchBST(self, root: Optional[TreeNode], val: int) -> Optional[TreeNode]:\n",
        "        \n",
        "        if (root == None):\n",
        "            return None\n",
        "        if (root.val == val):\n",
        "            return root\n",
        "        \n",
        "        Si = self.searchBST(root.left, val)\n",
        "        \n",
        "        if (Si):\n",
        "            return Si\n",
        "        \n",
        "        Si = self.searchBST(root.right, val)\n",
        "        \n",
        "        if (Si):\n",
        "            return Si"
      ],
      "metadata": {
        "id": "TI0zBP3vyiTp"
      },
      "execution_count": null,
      "outputs": []
    }
  ]
}
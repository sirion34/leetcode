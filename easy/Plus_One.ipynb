{
  "nbformat": 4,
  "nbformat_minor": 0,
  "metadata": {
    "colab": {
      "name": "Plus One.ipynb",
      "provenance": [],
      "collapsed_sections": []
    },
    "kernelspec": {
      "name": "python3",
      "display_name": "Python 3"
    },
    "language_info": {
      "name": "python"
    }
  },
  "cells": [
    {
      "cell_type": "markdown",
      "source": [
        "Plus One\n",
        "\n",
        "**Easy**\n",
        "\n",
        "https://leetcode.com/problems/plus-one"
      ],
      "metadata": {
        "id": "Z18h1mjarocY"
      }
    },
    {
      "cell_type": "code",
      "source": [
        "class Solution:\n",
        "    def plusOne(self, digits: List[int]) -> List[int]:\n",
        "        if len(digits) == 0:\n",
        "            return [1]\n",
        "        if digits[-1] < 9 :\n",
        "            digits[-1] += 1\n",
        "            return digits\n",
        "        enum = 0\n",
        "        digits.reverse()\n",
        "        for i in range(len(digits)):\n",
        "            enum += digits[i]*10**i\n",
        "        \n",
        "        enum += 1 \n",
        "        answ = []\n",
        "        while enum > 0:\n",
        "            answ.append(enum%10)\n",
        "            enum //= 10\n",
        "        answ.reverse()\n",
        "        return answ"
      ],
      "metadata": {
        "id": "TI0zBP3vyiTp"
      },
      "execution_count": null,
      "outputs": []
    }
  ]
}
{
  "nbformat": 4,
  "nbformat_minor": 0,
  "metadata": {
    "colab": {
      "name": "longest-common-prefix.ipynb",
      "provenance": [],
      "collapsed_sections": []
    },
    "kernelspec": {
      "name": "python3",
      "display_name": "Python 3"
    },
    "language_info": {
      "name": "python"
    }
  },
  "cells": [
    {
      "cell_type": "markdown",
      "source": [
        "longest-common-prefix\n",
        "\n",
        "**Easy**\n",
        "\n",
        "https://leetcode.com/problems/longest-common-prefix"
      ],
      "metadata": {
        "id": "Z18h1mjarocY"
      }
    },
    {
      "cell_type": "code",
      "source": [
        "class Solution:\n",
        "    def longestCommonPrefix(self, strs: List[str]) -> str:\n",
        "\n",
        "        pref = \"\"\n",
        "        \n",
        "        if len(strs)==0: \n",
        "            return pref\n",
        "    \n",
        "        for i in range(len(min(strs))):\n",
        "            w = strs[0][i]\n",
        "            if all(a[i] == w for a in strs):\n",
        "                pref += w\n",
        "            else:\n",
        "                break\n",
        "        return pref"
      ],
      "metadata": {
        "id": "TI0zBP3vyiTp"
      },
      "execution_count": null,
      "outputs": []
    }
  ]
}
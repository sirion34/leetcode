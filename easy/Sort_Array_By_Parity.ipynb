{
  "nbformat": 4,
  "nbformat_minor": 0,
  "metadata": {
    "colab": {
      "name": "Sort Array By Parity.ipynb",
      "provenance": [],
      "collapsed_sections": []
    },
    "kernelspec": {
      "name": "python3",
      "display_name": "Python 3"
    },
    "language_info": {
      "name": "python"
    }
  },
  "cells": [
    {
      "cell_type": "markdown",
      "source": [
        "Sort Array By Parity\n",
        "\n",
        "**Easy**\n",
        "\n",
        "https://leetcode.com/problems/sort-array-by-parity"
      ],
      "metadata": {
        "id": "Z18h1mjarocY"
      }
    },
    {
      "cell_type": "code",
      "source": [
        "class Solution:\n",
        "    def sortArrayByParity(self, nums: List[int]) -> List[int]:\n",
        "        even = []\n",
        "        odd = []\n",
        "        \n",
        "        for i in range(len(nums)):\n",
        "            if nums[i]%2 == 1:\n",
        "                odd.append(nums[i])\n",
        "            else:\n",
        "                even.append(nums[i])\n",
        "        \n",
        "        for i in range(len(odd)):\n",
        "            even.append(odd[i])\n",
        "            \n",
        "        return even"
      ],
      "metadata": {
        "id": "TI0zBP3vyiTp"
      },
      "execution_count": null,
      "outputs": []
    }
  ]
}
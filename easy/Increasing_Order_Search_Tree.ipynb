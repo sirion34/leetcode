{
  "nbformat": 4,
  "nbformat_minor": 0,
  "metadata": {
    "colab": {
      "name": "Increasing Order Search Tree.ipynb",
      "provenance": [],
      "collapsed_sections": []
    },
    "kernelspec": {
      "name": "python3",
      "display_name": "Python 3"
    },
    "language_info": {
      "name": "python"
    }
  },
  "cells": [
    {
      "cell_type": "markdown",
      "source": [
        "Increasing Order Search Tree\n",
        "\n",
        "**Easy**\n",
        "\n",
        "https://leetcode.com/problems/increasing-order-search-tree"
      ],
      "metadata": {
        "id": "Z18h1mjarocY"
      }
    },
    {
      "cell_type": "code",
      "source": [
        "# Definition for a binary tree node.\n",
        "# class TreeNode:\n",
        "#     def __init__(self, val=0, left=None, right=None):\n",
        "#         self.val = val\n",
        "#         self.left = left\n",
        "#         self.right = right\n",
        "class Solution:\n",
        "    def __init__(self):\n",
        "        self.answer =  TreeNode()\n",
        "        \n",
        "    def increasingBST(self, root: TreeNode) -> TreeNode:\n",
        "        def inorder(node):\n",
        "            if node:\n",
        "                yield from inorder(node.left)\n",
        "                yield node.val\n",
        "                yield from inorder(node.right)\n",
        "        \n",
        "        ans = cur = TreeNode(None)\n",
        "        for v in inorder(root):\n",
        "            cur.right = TreeNode(v)\n",
        "            cur = cur.right\n",
        "        return ans.right"
      ],
      "metadata": {
        "id": "TI0zBP3vyiTp"
      },
      "execution_count": null,
      "outputs": []
    }
  ]
}
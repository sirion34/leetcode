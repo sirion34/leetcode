{
  "nbformat": 4,
  "nbformat_minor": 0,
  "metadata": {
    "colab": {
      "name": "Design HashMap.ipynb",
      "provenance": [],
      "collapsed_sections": []
    },
    "kernelspec": {
      "name": "python3",
      "display_name": "Python 3"
    },
    "language_info": {
      "name": "python"
    }
  },
  "cells": [
    {
      "cell_type": "markdown",
      "source": [
        "Design HashMap\n",
        "\n",
        "**Easy**\n",
        "\n",
        "https://leetcode.com/problems/design-hashmap"
      ],
      "metadata": {
        "id": "Z18h1mjarocY"
      }
    },
    {
      "cell_type": "code",
      "source": [
        "class MyHashMap:\n",
        "\n",
        "    def __init__(self):\n",
        "        self.mymap = []\n",
        "    \n",
        "    def put(self, key: int, value: int) -> None:\n",
        "        for i in range(len(self.mymap)):\n",
        "            if key == self.mymap[i][0]:\n",
        "                self.mymap.pop(i)\n",
        "                break\n",
        "        self.mymap.append([key, value])\n",
        "        return 0\n",
        "\n",
        "    def get(self, key: int) -> int:\n",
        "        for i in range(len(self.mymap)):\n",
        "            if key == self.mymap[i][0]:\n",
        "                return self.mymap[i][1]\n",
        "        return -1\n",
        "\n",
        "    def remove(self, key: int) -> None:\n",
        "        for i in range(len(self.mymap)):\n",
        "            if key == self.mymap[i][0]:\n",
        "                self.mymap.pop(i)\n",
        "                return 0\n",
        "        return 0\n",
        "\n",
        "# Your MyHashMap object will be instantiated and called as such:\n",
        "# obj = MyHashMap()\n",
        "# obj.put(key,value)\n",
        "# param_2 = obj.get(key)\n",
        "# obj.remove(key)"
      ],
      "metadata": {
        "id": "TI0zBP3vyiTp"
      },
      "execution_count": null,
      "outputs": []
    }
  ]
}
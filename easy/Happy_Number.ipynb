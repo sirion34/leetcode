{
  "nbformat": 4,
  "nbformat_minor": 0,
  "metadata": {
    "colab": {
      "name": "Happy Number.ipynb",
      "provenance": [],
      "collapsed_sections": []
    },
    "kernelspec": {
      "name": "python3",
      "display_name": "Python 3"
    },
    "language_info": {
      "name": "python"
    }
  },
  "cells": [
    {
      "cell_type": "markdown",
      "source": [
        "Happy Number\n",
        "\n",
        "**Easy**\n",
        "\n",
        "https://leetcode.com/problems/happy-number"
      ],
      "metadata": {
        "id": "Z18h1mjarocY"
      }
    },
    {
      "cell_type": "code",
      "source": [
        "class Solution:\n",
        "    def isHappy(self, n: int) -> bool:\n",
        "        i = 2\n",
        "        n_slow = n    \n",
        "        while n != 1:\n",
        "            suma = 0\n",
        "            while n != 0:\n",
        "                suma += (n%10)**2\n",
        "                n //= 10\n",
        "            n = suma\n",
        "            if n_slow == n:\n",
        "                return False        \n",
        "            suma = 0\n",
        "            if i == 0:\n",
        "                while n_slow != 0:\n",
        "                    suma += (n_slow%10)**2\n",
        "                    n_slow //= 10\n",
        "                n_slow = suma\n",
        "                i = 2\n",
        "            i -= 1\n",
        "        return True"
      ],
      "metadata": {
        "id": "TI0zBP3vyiTp"
      },
      "execution_count": null,
      "outputs": []
    }
  ]
}
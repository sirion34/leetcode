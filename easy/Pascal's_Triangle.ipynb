{
  "nbformat": 4,
  "nbformat_minor": 0,
  "metadata": {
    "colab": {
      "name": "Pascal's Triangle.ipynb",
      "provenance": [],
      "collapsed_sections": []
    },
    "kernelspec": {
      "name": "python3",
      "display_name": "Python 3"
    },
    "language_info": {
      "name": "python"
    }
  },
  "cells": [
    {
      "cell_type": "markdown",
      "source": [
        "Pascal's Triangle\n",
        "\n",
        "**Easy**\n",
        "\n",
        "https://leetcode.com/problems/pascals-triangle/"
      ],
      "metadata": {
        "id": "Z18h1mjarocY"
      }
    },
    {
      "cell_type": "code",
      "source": [
        "class Solution:\n",
        "    def generate(self, numRows: int) -> List[List[int]]:\n",
        "        gen = []#[[] for i in range(numRows)]\n",
        "        mass = []\n",
        "        for i in range(numRows+1):\n",
        "            for j in range(i):\n",
        "                if (j == i-1 or j == 0):\n",
        "                    mass.append(1)\n",
        "                else:\n",
        "                    mass.append(gen[i-2][j]+gen[i-2][j-1])\n",
        "            if i == 0:\n",
        "                continue\n",
        "            gen.append(mass)\n",
        "            mass = []\n",
        "        return gen"
      ],
      "metadata": {
        "id": "TI0zBP3vyiTp"
      },
      "execution_count": null,
      "outputs": []
    }
  ]
}
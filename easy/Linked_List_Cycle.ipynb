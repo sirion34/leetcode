{
  "nbformat": 4,
  "nbformat_minor": 0,
  "metadata": {
    "colab": {
      "name": "Linked List Cycle.ipynb",
      "provenance": [],
      "collapsed_sections": []
    },
    "kernelspec": {
      "name": "python3",
      "display_name": "Python 3"
    },
    "language_info": {
      "name": "python"
    }
  },
  "cells": [
    {
      "cell_type": "markdown",
      "source": [
        "Linked List Cycle\n",
        "\n",
        "**Easy**\n",
        "\n",
        "https://leetcode.com/problems/linked-list-cycle/"
      ],
      "metadata": {
        "id": "Z18h1mjarocY"
      }
    },
    {
      "cell_type": "code",
      "source": [
        "# Definition for singly-linked list.\n",
        "# class ListNode:\n",
        "#     def __init__(self, x):\n",
        "#         self.val = x\n",
        "#         self.next = None\n",
        "\n",
        "class Solution:\n",
        "    \n",
        "    def hasCycle(self, head: Optional[ListNode]) -> bool:\n",
        "\n",
        "        if head == None:\n",
        "            return 0\n",
        "        if head.next == None:\n",
        "            return 0\n",
        "        \n",
        "        fast = head.next\n",
        "        slow = head\n",
        "        \n",
        "        while fast and fast.next:\n",
        "            if fast == slow:\n",
        "                return 1\n",
        "            \n",
        "            slow = slow.next\n",
        "            fast = fast.next.next\n",
        "        return 0\n"
      ],
      "metadata": {
        "id": "TI0zBP3vyiTp"
      },
      "execution_count": null,
      "outputs": []
    }
  ]
}
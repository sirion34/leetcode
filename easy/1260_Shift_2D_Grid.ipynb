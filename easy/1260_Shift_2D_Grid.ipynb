{
  "nbformat": 4,
  "nbformat_minor": 0,
  "metadata": {
    "colab": {
      "name": "1260 Shift 2D Grid.ipynb",
      "provenance": [],
      "collapsed_sections": []
    },
    "kernelspec": {
      "name": "python3",
      "display_name": "Python 3"
    },
    "language_info": {
      "name": "python"
    }
  },
  "cells": [
    {
      "cell_type": "markdown",
      "source": [
        "1260. Shift 2D Grid\n",
        "**Easy**"
      ],
      "metadata": {
        "id": "i20rWoWsru8S"
      }
    },
    {
      "cell_type": "markdown",
      "source": [
        "https://leetcode.com/problems/shift-2d-grid"
      ],
      "metadata": {
        "id": "Z18h1mjarocY"
      }
    },
    {
      "cell_type": "code",
      "execution_count": null,
      "metadata": {
        "id": "aAGdmlPyrk1e"
      },
      "outputs": [],
      "source": [
        "class Solution:\n",
        "    def shiftGrid(self, grid: List[List[int]], k: int) -> List[List[int]]:\n",
        "        for ka in range(k):\n",
        "            num = grid[-1][-1]\n",
        "            for i in range(len(grid)):\n",
        "                for j in range(len(grid[0])):\n",
        "                    num1 = grid[i][j]\n",
        "                    grid[i][j] = num      \n",
        "                    num = num1\n",
        "        return grid      "
      ]
    }
  ]
}
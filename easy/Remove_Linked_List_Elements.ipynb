{
  "nbformat": 4,
  "nbformat_minor": 0,
  "metadata": {
    "colab": {
      "name": "Remove Linked List Elements.ipynb",
      "provenance": [],
      "collapsed_sections": []
    },
    "kernelspec": {
      "name": "python3",
      "display_name": "Python 3"
    },
    "language_info": {
      "name": "python"
    }
  },
  "cells": [
    {
      "cell_type": "markdown",
      "source": [
        "Remove Linked List Elements\n",
        "\n",
        "**Easy**\n",
        "\n",
        "https://leetcode.com/problems/remove-linked-list-elements/"
      ],
      "metadata": {
        "id": "Z18h1mjarocY"
      }
    },
    {
      "cell_type": "code",
      "source": [
        "# Definition for singly-linked list.\n",
        "# class ListNode:\n",
        "#     def __init__(self, val=0, next=None):\n",
        "#         self.val = val\n",
        "#         self.next = next\n",
        "class Solution:\n",
        "    def removeElements(self, head: Optional[ListNode], val: int) -> Optional[ListNode]:\n",
        "        \n",
        "        if not head: return head\n",
        "        \n",
        "        \n",
        "        if not head.next:\n",
        "            if head.val == val:\n",
        "                return None\n",
        "            else:\n",
        "                return head\n",
        "                \n",
        "                \n",
        "        if head.val == val:\n",
        "            head = head.next\n",
        "            \n",
        "        head.next = self.removeElements(head.next, val)\n",
        "        \n",
        "        if head.val == val:\n",
        "            head = head.next\n",
        "        \n",
        "        return head"
      ],
      "metadata": {
        "id": "TI0zBP3vyiTp"
      },
      "execution_count": null,
      "outputs": []
    }
  ]
}
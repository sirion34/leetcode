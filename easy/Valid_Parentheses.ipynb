{
  "nbformat": 4,
  "nbformat_minor": 0,
  "metadata": {
    "colab": {
      "name": "Valid Parentheses.ipynb",
      "provenance": [],
      "collapsed_sections": []
    },
    "kernelspec": {
      "name": "python3",
      "display_name": "Python 3"
    },
    "language_info": {
      "name": "python"
    }
  },
  "cells": [
    {
      "cell_type": "markdown",
      "source": [
        "Valid Parentheses\n",
        "\n",
        "**Easy**\n",
        "\n",
        "https://leetcode.com/problems/valid-parentheses"
      ],
      "metadata": {
        "id": "Z18h1mjarocY"
      }
    },
    {
      "cell_type": "code",
      "source": [
        "class Solution:\n",
        "    def isValid(self, s: str) -> bool:\n",
        "        \n",
        "        stack = []\n",
        "        \n",
        "        for i in range(len(s)):\n",
        "            if (s[i] == '('):\n",
        "                stack.append(s[i])\n",
        "            if (s[i] == '['):\n",
        "                stack.append(s[i])\n",
        "            if (s[i] == '{'):\n",
        "                stack.append(s[i])\n",
        "            \n",
        "            if (s[i] == ')'):\n",
        "                if (stack == []):\n",
        "                    return False\n",
        "                if (stack[-1] == '('):\n",
        "                    stack.pop()\n",
        "                else:\n",
        "                    return False\n",
        "            if (s[i] == ']'):\n",
        "                if (stack == []):\n",
        "                    return False\n",
        "                \n",
        "                if (stack[-1] == '['):\n",
        "                    stack.pop()\n",
        "                else:\n",
        "                    return False\n",
        "            if (s[i] == '}'):\n",
        "                \n",
        "                if (stack == []):\n",
        "                    return False\n",
        "                \n",
        "                if (stack[-1] == '{'):\n",
        "                    stack.pop()\n",
        "                else:\n",
        "                    return False        \n",
        "        \n",
        "        if (stack == []):\n",
        "            return True\n",
        "        else:\n",
        "            return False"
      ],
      "metadata": {
        "id": "TI0zBP3vyiTp"
      },
      "execution_count": null,
      "outputs": []
    }
  ]
}